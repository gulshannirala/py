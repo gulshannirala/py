{
 "cells": [
  {
   "cell_type": "markdown",
   "id": "de161ed1",
   "metadata": {},
   "source": [
    "# Create a program to calculate the area in circumference of a circle.\n",
    "#Ask the user for the circles radius in order to make the calculation.\n",
    "#area=pi*r^2\n",
    "#circumference=2*pi*r\n",
    "#r=radius"
   ]
  },
  {
   "cell_type": "code",
   "execution_count": 1,
   "id": "b1e84d78",
   "metadata": {},
   "outputs": [
    {
     "name": "stdout",
     "output_type": "stream",
     "text": [
      "enter the radius of the circle:5\n",
      "the area of the circle is:  78.53981633974483\n",
      "the circumference of the circle is : 31.41592653589793\n"
     ]
    }
   ],
   "source": [
    "import math\n",
    "radius=float(input(\"enter the radius of the circle:\"))\n",
    "area=math.pi*(radius**2)\n",
    "circumference=2*math.pi*radius\n",
    "print(\"the area of the circle is: \",area)\n",
    "print(\"the circumference of the circle is :\",circumference)"
   ]
  },
  {
   "cell_type": "code",
   "execution_count": null,
   "id": "9d021567",
   "metadata": {},
   "outputs": [],
   "source": []
  }
 ],
 "metadata": {
  "kernelspec": {
   "display_name": "Python 3",
   "language": "python",
   "name": "python3"
  },
  "language_info": {
   "codemirror_mode": {
    "name": "ipython",
    "version": 3
   },
   "file_extension": ".py",
   "mimetype": "text/x-python",
   "name": "python",
   "nbconvert_exporter": "python",
   "pygments_lexer": "ipython3",
   "version": "3.9.1"
  }
 },
 "nbformat": 4,
 "nbformat_minor": 5
}
