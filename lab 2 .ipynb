{
 "cells": [
  {
   "cell_type": "code",
   "execution_count": 1,
   "id": "c6c9267c",
   "metadata": {},
   "outputs": [
    {
     "name": "stdout",
     "output_type": "stream",
     "text": [
      "Enter length3\n",
      "Enter breadth4\n",
      "It's a rectengle\n"
     ]
    }
   ],
   "source": [
    "l=int(input(\"Enter length\"))\n",
    "b=int(input(\"Enter breadth\"))\n",
    "if l==b:\n",
    "    print(\"It's a square\")\n",
    "else:\n",
    "    print(\"It's a rectengle\")"
   ]
  },
  {
   "cell_type": "code",
   "execution_count": 2,
   "id": "c200ab75",
   "metadata": {},
   "outputs": [
    {
     "name": "stdout",
     "output_type": "stream",
     "text": [
      "Enter length4\n",
      "Enter breadth4\n",
      "It's a square\n"
     ]
    }
   ],
   "source": [
    "l=int(input(\"Enter length\"))\n",
    "b=int(input(\"Enter breadth\"))\n",
    "if l==b:\n",
    "    print(\"It's a square\")\n",
    "else:\n",
    "    print(\"It's a rectengle\")"
   ]
  },
  {
   "cell_type": "code",
   "execution_count": 3,
   "id": "088874a2",
   "metadata": {},
   "outputs": [
    {
     "name": "stdout",
     "output_type": "stream",
     "text": [
      " Side14\n",
      " Side24\n",
      "Square\n"
     ]
    }
   ],
   "source": [
    "l=int(input(\" Side1\"))\n",
    "b=int(input(\" Side2\"))\n",
    "if(l>b):\n",
    "    print(\"Length= \",l)\n",
    "    print(\"Breadth= \",b)\n",
    "elif(l<b):\n",
    "    print(\"Length= \",b)\n",
    "    print(\"Breadth= \",l)\n",
    "print(\"Square\") if l==b else print(\"Rectangle\")"
   ]
  },
  {
   "cell_type": "code",
   "execution_count": 5,
   "id": "58d8bf56",
   "metadata": {},
   "outputs": [
    {
     "name": "stdout",
     "output_type": "stream",
     "text": [
      " Side145\n",
      " Side254\n",
      "Length=  54\n",
      "Breadth=  45\n",
      "Rectangle\n"
     ]
    }
   ],
   "source": [
    "l=int(input(\" Side1\"))\n",
    "b=int(input(\" Side2\"))\n",
    "if(l>b):\n",
    "    print(\"Length= \",l)\n",
    "    print(\"Breadth= \",b)\n",
    "elif(l<b):\n",
    "    print(\"Length= \",b)\n",
    "    print(\"Breadth= \",l)\n",
    "print(\"Square\") if l==b else print(\"Rectangle\")"
   ]
  },
  {
   "cell_type": "code",
   "execution_count": 11,
   "id": "a5a11981",
   "metadata": {},
   "outputs": [
    {
     "name": "stdout",
     "output_type": "stream",
     "text": [
      "a<b\n"
     ]
    }
   ],
   "source": [
    "a=5\n",
    "b=6\n",
    "print(\"a>b\") if a>b  else print(\"a<b\") if a<b else print(\"a==b\")"
   ]
  },
  {
   "cell_type": "code",
   "execution_count": 17,
   "id": "9fd3638b",
   "metadata": {},
   "outputs": [
    {
     "name": "stdout",
     "output_type": "stream",
     "text": [
      "a<b\n"
     ]
    }
   ],
   "source": [
    "a=8\n",
    "b=15\n",
    "print(\"a>b\") if a>b else print(\"a<b\") if a<b else print(\"a==b\")"
   ]
  },
  {
   "cell_type": "code",
   "execution_count": 24,
   "id": "3e176ab6",
   "metadata": {},
   "outputs": [
    {
     "ename": "IndentationError",
     "evalue": "expected an indented block (<ipython-input-24-e20f23a69907>, line 2)",
     "output_type": "error",
     "traceback": [
      "\u001b[1;36m  File \u001b[1;32m\"<ipython-input-24-e20f23a69907>\"\u001b[1;36m, line \u001b[1;32m2\u001b[0m\n\u001b[1;33m    if val==\"s\":\u001b[0m\n\u001b[1;37m    ^\u001b[0m\n\u001b[1;31mIndentationError\u001b[0m\u001b[1;31m:\u001b[0m expected an indented block\n"
     ]
    }
   ],
   "source": [
    "for val in \"string\":\n",
    "if val==\"s\":\n",
    "continue\n",
    "print(val)\n",
    "print(\"the end\")"
   ]
  },
  {
   "cell_type": "code",
   "execution_count": 25,
   "id": "216452c1",
   "metadata": {},
   "outputs": [
    {
     "name": "stdout",
     "output_type": "stream",
     "text": [
      "enter the natural no.2\n",
      "3\n"
     ]
    }
   ],
   "source": [
    "x=int(input(\"enter the natural no.\"))\n",
    "t=0\n",
    "for i in range(x+1):\n",
    "    t=t+i\n",
    "print(t)"
   ]
  },
  {
   "cell_type": "code",
   "execution_count": 26,
   "id": "4be07084",
   "metadata": {},
   "outputs": [
    {
     "name": "stdout",
     "output_type": "stream",
     "text": [
      "Enter a number: 5t\n"
     ]
    },
    {
     "ename": "ValueError",
     "evalue": "invalid literal for int() with base 10: '5t'",
     "output_type": "error",
     "traceback": [
      "\u001b[1;31m---------------------------------------------------------------------------\u001b[0m",
      "\u001b[1;31mValueError\u001b[0m                                Traceback (most recent call last)",
      "\u001b[1;32m<ipython-input-26-7223dc548065>\u001b[0m in \u001b[0;36m<module>\u001b[1;34m\u001b[0m\n\u001b[1;32m----> 1\u001b[1;33m \u001b[0mnum\u001b[0m \u001b[1;33m=\u001b[0m \u001b[0mint\u001b[0m\u001b[1;33m(\u001b[0m\u001b[0minput\u001b[0m\u001b[1;33m(\u001b[0m\u001b[1;34m\"Enter a number: \"\u001b[0m\u001b[1;33m)\u001b[0m\u001b[1;33m)\u001b[0m\u001b[1;33m\u001b[0m\u001b[1;33m\u001b[0m\u001b[0m\n\u001b[0m\u001b[0;32m      2\u001b[0m \u001b[0msum\u001b[0m \u001b[1;33m=\u001b[0m \u001b[1;36m0\u001b[0m\u001b[1;33m\u001b[0m\u001b[1;33m\u001b[0m\u001b[0m\n\u001b[0;32m      3\u001b[0m \u001b[1;32mfor\u001b[0m \u001b[0mi\u001b[0m \u001b[1;32min\u001b[0m \u001b[0mrange\u001b[0m\u001b[1;33m(\u001b[0m\u001b[1;36m1\u001b[0m\u001b[1;33m,\u001b[0m\u001b[0mnum\u001b[0m\u001b[1;33m+\u001b[0m\u001b[1;36m1\u001b[0m\u001b[1;33m)\u001b[0m\u001b[1;33m:\u001b[0m\u001b[1;33m\u001b[0m\u001b[1;33m\u001b[0m\u001b[0m\n\u001b[0;32m      4\u001b[0m     \u001b[0msum\u001b[0m\u001b[1;33m=\u001b[0m\u001b[0msum\u001b[0m\u001b[1;33m+\u001b[0m\u001b[0mi\u001b[0m\u001b[1;33m\u001b[0m\u001b[1;33m\u001b[0m\u001b[0m\n\u001b[0;32m      5\u001b[0m \u001b[0mprint\u001b[0m\u001b[1;33m(\u001b[0m\u001b[0msum\u001b[0m\u001b[1;33m)\u001b[0m\u001b[1;33m\u001b[0m\u001b[1;33m\u001b[0m\u001b[0m\n",
      "\u001b[1;31mValueError\u001b[0m: invalid literal for int() with base 10: '5t'"
     ]
    }
   ],
   "source": [
    "num = int(input(\"Enter a number: \"))\n",
    "sum = 0\n",
    "for i in range(1,num+1):\n",
    "    sum=sum+i\n",
    "print(sum)"
   ]
  },
  {
   "cell_type": "code",
   "execution_count": 27,
   "id": "43379b86",
   "metadata": {},
   "outputs": [
    {
     "name": "stdout",
     "output_type": "stream",
     "text": [
      "Enter a number: 8\n",
      "36\n"
     ]
    }
   ],
   "source": [
    "num = int(input(\"Enter a number: \"))\n",
    "sum = 0\n",
    "for i in range(1,num+1):\n",
    "    sum=sum+i\n",
    "print(sum)"
   ]
  },
  {
   "cell_type": "code",
   "execution_count": 28,
   "id": "cf6aebf6",
   "metadata": {},
   "outputs": [
    {
     "name": "stdout",
     "output_type": "stream",
     "text": [
      "enter the no.3\n",
      "6\n"
     ]
    }
   ],
   "source": [
    "x=int(input(\"enter the no.\"))\n",
    "a=0\n",
    "for i in range(x+1):\n",
    "    a=a+i\n",
    "print(a)"
   ]
  },
  {
   "cell_type": "code",
   "execution_count": 29,
   "id": "5152040b",
   "metadata": {},
   "outputs": [
    {
     "name": "stdout",
     "output_type": "stream",
     "text": [
      "Enter the number6\n",
      "0\n",
      "1\n",
      "3\n",
      "6\n",
      "10\n",
      "15\n",
      "21\n"
     ]
    }
   ],
   "source": [
    "num=int(input(\"Enter the number\"))\n",
    "sum=0\n",
    "for i in range(num+1):\n",
    "    sum+=i\n",
    "    print(sum)"
   ]
  },
  {
   "cell_type": "code",
   "execution_count": 30,
   "id": "383e5d50",
   "metadata": {},
   "outputs": [
    {
     "name": "stdout",
     "output_type": "stream",
     "text": [
      "Enter Number:6\n",
      "21\n"
     ]
    }
   ],
   "source": [
    "n=int(input(\"Enter Number:\"))\n",
    "sum=0\n",
    "for num in range(0, n+1, 1):\n",
    "    sum = sum+num\n",
    "print(sum)"
   ]
  },
  {
   "cell_type": "code",
   "execution_count": 31,
   "id": "70fa2d28",
   "metadata": {},
   "outputs": [
    {
     "name": "stdout",
     "output_type": "stream",
     "text": [
      "Enter number of elements : 7\n",
      "8\n",
      "9\n",
      "2\n",
      "6\n",
      "7\n",
      "5\n",
      "5\n",
      "['8', '9', '2', '6', '7', '5', '5']\n",
      "After sorting:  ['2', '5', '5', '6', '7', '8', '9']\n",
      "After reverse sorting:  ['9', '8', '7', '6', '5', '5', '2']\n"
     ]
    }
   ],
   "source": [
    "newlist=[]\n",
    "n = int(input(\"Enter number of elements : \"))\n",
    "for i in range(0, n):\n",
    "    a = input()\n",
    "  \n",
    "    newlist.append(a)\n",
    "      \n",
    "print(newlist)\n",
    "newlist.sort()\n",
    "print(\"After sorting: \", newlist)\n",
    "newlist.sort(reverse = True)\n",
    "print(\"After reverse sorting: \", newlist)"
   ]
  },
  {
   "cell_type": "code",
   "execution_count": 32,
   "id": "a2f0a4b8",
   "metadata": {},
   "outputs": [
    {
     "name": "stdout",
     "output_type": "stream",
     "text": [
      "[1, 4, 3]\n"
     ]
    }
   ],
   "source": [
    "x=[1,4,5,7,3,8]\n",
    "newlist=[i for i in x if i<5]\n",
    "print(newlist)"
   ]
  },
  {
   "cell_type": "code",
   "execution_count": 33,
   "id": "2b4e6a77",
   "metadata": {},
   "outputs": [
    {
     "name": "stdout",
     "output_type": "stream",
     "text": [
      "[0, 1, 2, 3, 4]\n"
     ]
    }
   ],
   "source": [
    "list1 = [i for i in range(0,10) if i < 5]\n",
    "print (list1)"
   ]
  },
  {
   "cell_type": "code",
   "execution_count": 34,
   "id": "05b65696",
   "metadata": {},
   "outputs": [
    {
     "name": "stdout",
     "output_type": "stream",
     "text": [
      "[0, 1, 2, 3, 4]\n"
     ]
    }
   ],
   "source": [
    "L=[X for X in range(0,6) if X<5]\n",
    "print(L)"
   ]
  },
  {
   "cell_type": "code",
   "execution_count": 35,
   "id": "15753bdd",
   "metadata": {},
   "outputs": [
    {
     "name": "stdout",
     "output_type": "stream",
     "text": [
      "[0, 1, 2, 3, 4]\n"
     ]
    }
   ],
   "source": [
    "newlist=[i for i in range(20) if i<5]\n",
    "print(newlist)"
   ]
  },
  {
   "cell_type": "code",
   "execution_count": null,
   "id": "a9ac3ee8",
   "metadata": {},
   "outputs": [],
   "source": []
  }
 ],
 "metadata": {
  "kernelspec": {
   "display_name": "Python 3",
   "language": "python",
   "name": "python3"
  },
  "language_info": {
   "codemirror_mode": {
    "name": "ipython",
    "version": 3
   },
   "file_extension": ".py",
   "mimetype": "text/x-python",
   "name": "python",
   "nbconvert_exporter": "python",
   "pygments_lexer": "ipython3",
   "version": "3.9.1"
  }
 },
 "nbformat": 4,
 "nbformat_minor": 5
}
