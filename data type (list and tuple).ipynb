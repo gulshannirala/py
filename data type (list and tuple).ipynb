{
 "cells": [
  {
   "cell_type": "code",
   "execution_count": 4,
   "id": "eefc3b26",
   "metadata": {},
   "outputs": [],
   "source": [
    "students=\"ram,shyam,sita,gita\" "
   ]
  },
  {
   "cell_type": "code",
   "execution_count": 5,
   "id": "2550eee7",
   "metadata": {},
   "outputs": [],
   "source": [
    "students=[\"ram\",\"shyam\",\"sita\",\"gita\"]"
   ]
  },
  {
   "cell_type": "code",
   "execution_count": 6,
   "id": "0acd170c",
   "metadata": {},
   "outputs": [
    {
     "data": {
      "text/plain": [
       "list"
      ]
     },
     "execution_count": 6,
     "metadata": {},
     "output_type": "execute_result"
    }
   ],
   "source": [
    "type(students)"
   ]
  },
  {
   "cell_type": "code",
   "execution_count": 7,
   "id": "9a12f007",
   "metadata": {},
   "outputs": [
    {
     "data": {
      "text/plain": [
       "4"
      ]
     },
     "execution_count": 7,
     "metadata": {},
     "output_type": "execute_result"
    }
   ],
   "source": [
    "len(students)"
   ]
  },
  {
   "cell_type": "code",
   "execution_count": 8,
   "id": "deb97e51",
   "metadata": {},
   "outputs": [
    {
     "data": {
      "text/plain": [
       "'ram'"
      ]
     },
     "execution_count": 8,
     "metadata": {},
     "output_type": "execute_result"
    }
   ],
   "source": [
    "students[0]"
   ]
  },
  {
   "cell_type": "code",
   "execution_count": 9,
   "id": "9d1613b9",
   "metadata": {},
   "outputs": [
    {
     "ename": "IndexError",
     "evalue": "list index out of range",
     "output_type": "error",
     "traceback": [
      "\u001b[1;31m---------------------------------------------------------------------------\u001b[0m",
      "\u001b[1;31mIndexError\u001b[0m                                Traceback (most recent call last)",
      "\u001b[1;32m<ipython-input-9-00fb83591984>\u001b[0m in \u001b[0;36m<module>\u001b[1;34m\u001b[0m\n\u001b[1;32m----> 1\u001b[1;33m \u001b[0mstudents\u001b[0m\u001b[1;33m[\u001b[0m\u001b[1;36m8\u001b[0m\u001b[1;33m]\u001b[0m\u001b[1;33m\u001b[0m\u001b[1;33m\u001b[0m\u001b[0m\n\u001b[0m",
      "\u001b[1;31mIndexError\u001b[0m: list index out of range"
     ]
    }
   ],
   "source": [
    "students[8]"
   ]
  },
  {
   "cell_type": "code",
   "execution_count": 10,
   "id": "c98f9645",
   "metadata": {},
   "outputs": [
    {
     "data": {
      "text/plain": [
       "'gita'"
      ]
     },
     "execution_count": 10,
     "metadata": {},
     "output_type": "execute_result"
    }
   ],
   "source": [
    "students[-1]"
   ]
  },
  {
   "cell_type": "code",
   "execution_count": 11,
   "id": "a70385f0",
   "metadata": {},
   "outputs": [
    {
     "data": {
      "text/plain": [
       "['ram', 'shyam', 'sita']"
      ]
     },
     "execution_count": 11,
     "metadata": {},
     "output_type": "execute_result"
    }
   ],
   "source": [
    "students[:3]"
   ]
  },
  {
   "cell_type": "code",
   "execution_count": 15,
   "id": "7d3d30bf",
   "metadata": {},
   "outputs": [],
   "source": [
    "months=\"jan\",\"feb\",\"march\",\"april\""
   ]
  },
  {
   "cell_type": "code",
   "execution_count": 16,
   "id": "6cb98271",
   "metadata": {},
   "outputs": [
    {
     "data": {
      "text/plain": [
       "tuple"
      ]
     },
     "execution_count": 16,
     "metadata": {},
     "output_type": "execute_result"
    }
   ],
   "source": [
    "type(months)"
   ]
  },
  {
   "cell_type": "code",
   "execution_count": 17,
   "id": "c8509eca",
   "metadata": {},
   "outputs": [
    {
     "data": {
      "text/plain": [
       "'jan'"
      ]
     },
     "execution_count": 17,
     "metadata": {},
     "output_type": "execute_result"
    }
   ],
   "source": [
    "months[0]"
   ]
  },
  {
   "cell_type": "code",
   "execution_count": 18,
   "id": "395f3c97",
   "metadata": {},
   "outputs": [
    {
     "data": {
      "text/plain": [
       "['ram', 'shyam', 'sita', 'gita']"
      ]
     },
     "execution_count": 18,
     "metadata": {},
     "output_type": "execute_result"
    }
   ],
   "source": [
    "students"
   ]
  },
  {
   "cell_type": "code",
   "execution_count": 22,
   "id": "5960b011",
   "metadata": {},
   "outputs": [],
   "source": [
    "students[0]=\"gul\""
   ]
  },
  {
   "cell_type": "code",
   "execution_count": 23,
   "id": "ec1523f9",
   "metadata": {},
   "outputs": [
    {
     "data": {
      "text/plain": [
       "['gul', 'shyam', 'sita', 'gita']"
      ]
     },
     "execution_count": 23,
     "metadata": {},
     "output_type": "execute_result"
    }
   ],
   "source": [
    "students"
   ]
  },
  {
   "cell_type": "code",
   "execution_count": 25,
   "id": "b29a341a",
   "metadata": {},
   "outputs": [],
   "source": [
    "students.append(\"shiva\")"
   ]
  },
  {
   "cell_type": "code",
   "execution_count": 26,
   "id": "4a6d8ebc",
   "metadata": {},
   "outputs": [
    {
     "data": {
      "text/plain": [
       "['gul', 'shyam', 'sita', 'gita', 'shiva']"
      ]
     },
     "execution_count": 26,
     "metadata": {},
     "output_type": "execute_result"
    }
   ],
   "source": [
    "students"
   ]
  },
  {
   "cell_type": "code",
   "execution_count": 27,
   "id": "9a24a262",
   "metadata": {},
   "outputs": [],
   "source": [
    "students.insert(0,\"mohan\")"
   ]
  },
  {
   "cell_type": "code",
   "execution_count": 28,
   "id": "5a6ec13f",
   "metadata": {},
   "outputs": [
    {
     "data": {
      "text/plain": [
       "['mohan', 'gul', 'shyam', 'sita', 'gita', 'shiva']"
      ]
     },
     "execution_count": 28,
     "metadata": {},
     "output_type": "execute_result"
    }
   ],
   "source": [
    "students"
   ]
  },
  {
   "cell_type": "code",
   "execution_count": 29,
   "id": "66322bc2",
   "metadata": {},
   "outputs": [
    {
     "data": {
      "text/plain": [
       "'shiva'"
      ]
     },
     "execution_count": 29,
     "metadata": {},
     "output_type": "execute_result"
    }
   ],
   "source": [
    "students.pop()"
   ]
  },
  {
   "cell_type": "code",
   "execution_count": 30,
   "id": "d9544085",
   "metadata": {},
   "outputs": [
    {
     "data": {
      "text/plain": [
       "['mohan', 'gul', 'shyam', 'sita', 'gita']"
      ]
     },
     "execution_count": 30,
     "metadata": {},
     "output_type": "execute_result"
    }
   ],
   "source": [
    "students"
   ]
  },
  {
   "cell_type": "code",
   "execution_count": 31,
   "id": "1a66f7ca",
   "metadata": {},
   "outputs": [
    {
     "data": {
      "text/plain": [
       "'gul'"
      ]
     },
     "execution_count": 31,
     "metadata": {},
     "output_type": "execute_result"
    }
   ],
   "source": [
    "students.pop(1)"
   ]
  },
  {
   "cell_type": "code",
   "execution_count": 32,
   "id": "f3130512",
   "metadata": {},
   "outputs": [
    {
     "data": {
      "text/plain": [
       "['mohan', 'shyam', 'sita', 'gita']"
      ]
     },
     "execution_count": 32,
     "metadata": {},
     "output_type": "execute_result"
    }
   ],
   "source": [
    "students"
   ]
  },
  {
   "cell_type": "code",
   "execution_count": 33,
   "id": "3550c5bf",
   "metadata": {},
   "outputs": [],
   "source": [
    "students.remove(\"sita\")"
   ]
  },
  {
   "cell_type": "code",
   "execution_count": 34,
   "id": "2c348f11",
   "metadata": {},
   "outputs": [
    {
     "data": {
      "text/plain": [
       "['mohan', 'shyam', 'gita']"
      ]
     },
     "execution_count": 34,
     "metadata": {},
     "output_type": "execute_result"
    }
   ],
   "source": [
    "students"
   ]
  },
  {
   "cell_type": "code",
   "execution_count": 35,
   "id": "b8db761b",
   "metadata": {},
   "outputs": [],
   "source": [
    "students2=[\"ram\",\"shyam\",\"sita\",\"gita\"]"
   ]
  },
  {
   "cell_type": "code",
   "execution_count": 36,
   "id": "cbc4c172",
   "metadata": {
    "scrolled": true
   },
   "outputs": [
    {
     "data": {
      "text/plain": [
       "['mohan', 'shyam', 'gita', 'ram', 'shyam', 'sita', 'gita']"
      ]
     },
     "execution_count": 36,
     "metadata": {},
     "output_type": "execute_result"
    }
   ],
   "source": [
    "students+students2"
   ]
  },
  {
   "cell_type": "raw",
   "id": "d4bb7cef",
   "metadata": {},
   "source": [
    "# create a program that asks the user for his birthday in the format\n",
    "# \"DD-MM-YYYY\". Then print:\n",
    "#\"you were born in the [month]\""
   ]
  },
  {
   "cell_type": "code",
   "execution_count": 38,
   "id": "fdc78ea8",
   "metadata": {},
   "outputs": [
    {
     "name": "stdout",
     "output_type": "stream",
     "text": [
      "type your birthday in the format DD-MM-YYYY:12-08-2002\n",
      "you were born in:  august\n"
     ]
    }
   ],
   "source": [
    "months=(\"january\",\"february\",\"march\",\"april\",\"may\",\"june\",\"july\",\"august\",\"september\",\"october\",\"november\",\"december\")\n",
    "birthday=input(\"type your birthday in the format DD-MM-YYYY:\")\n",
    "index=int(birthday[3:5])-1\n",
    "bd_month=months[index]\n",
    "print(\"you were born in: \",bd_month)"
   ]
  },
  {
   "cell_type": "raw",
   "id": "44f0fb57",
   "metadata": {},
   "source": [
    "#create a program with a predefined list of people.\n",
    "#ask the user for his name added to the end of the list and print the new list."
   ]
  },
  {
   "cell_type": "code",
   "execution_count": 41,
   "id": "3eb563b0",
   "metadata": {},
   "outputs": [
    {
     "name": "stdout",
     "output_type": "stream",
     "text": [
      "type your name: GULSHAN\n",
      "here's the list: ['ram', 'shyam', 'sita', 'gita', 'GULSHAN']\n"
     ]
    }
   ],
   "source": [
    "people=[\"ram\",\"shyam\",\"sita\",\"gita\"]\n",
    "user=input(\"type your name: \")\n",
    "\n",
    "people.append(user)\n",
    "print(\"here's the list:\",people)"
   ]
  },
  {
   "cell_type": "code",
   "execution_count": null,
   "id": "48bde9e9",
   "metadata": {},
   "outputs": [],
   "source": []
  }
 ],
 "metadata": {
  "kernelspec": {
   "display_name": "Python 3",
   "language": "python",
   "name": "python3"
  },
  "language_info": {
   "codemirror_mode": {
    "name": "ipython",
    "version": 3
   },
   "file_extension": ".py",
   "mimetype": "text/x-python",
   "name": "python",
   "nbconvert_exporter": "python",
   "pygments_lexer": "ipython3",
   "version": "3.9.1"
  }
 },
 "nbformat": 4,
 "nbformat_minor": 5
}
