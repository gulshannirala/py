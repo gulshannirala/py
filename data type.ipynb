{
 "cells": [
  {
   "cell_type": "code",
   "execution_count": 2,
   "id": "3d403aa6",
   "metadata": {},
   "outputs": [],
   "source": [
    "mystring = \"some text\""
   ]
  },
  {
   "cell_type": "code",
   "execution_count": 3,
   "id": "eaca34cb",
   "metadata": {},
   "outputs": [
    {
     "data": {
      "text/plain": [
       "str"
      ]
     },
     "execution_count": 3,
     "metadata": {},
     "output_type": "execute_result"
    }
   ],
   "source": [
    "type(mystring)"
   ]
  },
  {
   "cell_type": "code",
   "execution_count": 4,
   "id": "fbdc9d39",
   "metadata": {},
   "outputs": [],
   "source": [
    "mystring = \"33\""
   ]
  },
  {
   "cell_type": "code",
   "execution_count": 5,
   "id": "3cec7058",
   "metadata": {},
   "outputs": [
    {
     "data": {
      "text/plain": [
       "str"
      ]
     },
     "execution_count": 5,
     "metadata": {},
     "output_type": "execute_result"
    }
   ],
   "source": [
    "type(mystring)"
   ]
  },
  {
   "cell_type": "code",
   "execution_count": 6,
   "id": "b458d51b",
   "metadata": {},
   "outputs": [
    {
     "ename": "SyntaxError",
     "evalue": "invalid syntax (<ipython-input-6-2af302cbcff9>, line 1)",
     "output_type": "error",
     "traceback": [
      "\u001b[1;36m  File \u001b[1;32m\"<ipython-input-6-2af302cbcff9>\"\u001b[1;36m, line \u001b[1;32m1\u001b[0m\n\u001b[1;33m    mystring = \"she said\"meet me at 6\"\"\u001b[0m\n\u001b[1;37m                         ^\u001b[0m\n\u001b[1;31mSyntaxError\u001b[0m\u001b[1;31m:\u001b[0m invalid syntax\n"
     ]
    }
   ],
   "source": [
    "mystring = \"she said\"meet me at 6\"\""
   ]
  },
  {
   "cell_type": "code",
   "execution_count": 7,
   "id": "3c0a857c",
   "metadata": {},
   "outputs": [],
   "source": [
    "mystring = 'she said\"meet me at 6\"'"
   ]
  },
  {
   "cell_type": "code",
   "execution_count": 8,
   "id": "af03dced",
   "metadata": {},
   "outputs": [
    {
     "data": {
      "text/plain": [
       "str"
      ]
     },
     "execution_count": 8,
     "metadata": {},
     "output_type": "execute_result"
    }
   ],
   "source": [
    "type(mystring)"
   ]
  },
  {
   "cell_type": "code",
   "execution_count": 9,
   "id": "67889afe",
   "metadata": {},
   "outputs": [
    {
     "data": {
      "text/plain": [
       "'s'"
      ]
     },
     "execution_count": 9,
     "metadata": {},
     "output_type": "execute_result"
    }
   ],
   "source": [
    "mystring[0]"
   ]
  },
  {
   "cell_type": "code",
   "execution_count": 10,
   "id": "9fed844e",
   "metadata": {},
   "outputs": [
    {
     "data": {
      "text/plain": [
       "'\"'"
      ]
     },
     "execution_count": 10,
     "metadata": {},
     "output_type": "execute_result"
    }
   ],
   "source": [
    "mystring[-1]"
   ]
  },
  {
   "cell_type": "code",
   "execution_count": 11,
   "id": "5b4d37f5",
   "metadata": {},
   "outputs": [
    {
     "data": {
      "text/plain": [
       "'6'"
      ]
     },
     "execution_count": 11,
     "metadata": {},
     "output_type": "execute_result"
    }
   ],
   "source": [
    "mystring[-2]"
   ]
  },
  {
   "cell_type": "code",
   "execution_count": 12,
   "id": "89f8b159",
   "metadata": {},
   "outputs": [
    {
     "data": {
      "text/plain": [
       "22"
      ]
     },
     "execution_count": 12,
     "metadata": {},
     "output_type": "execute_result"
    }
   ],
   "source": [
    "len(mystring)"
   ]
  },
  {
   "cell_type": "code",
   "execution_count": 13,
   "id": "c0f6a23e",
   "metadata": {},
   "outputs": [],
   "source": [
    "mystring = 'she'"
   ]
  },
  {
   "cell_type": "code",
   "execution_count": 14,
   "id": "33365ce1",
   "metadata": {},
   "outputs": [
    {
     "data": {
      "text/plain": [
       "3"
      ]
     },
     "execution_count": 14,
     "metadata": {},
     "output_type": "execute_result"
    }
   ],
   "source": [
    "len(mystring)"
   ]
  },
  {
   "cell_type": "code",
   "execution_count": 15,
   "id": "e8fff8e4",
   "metadata": {},
   "outputs": [
    {
     "data": {
      "text/plain": [
       "'e'"
      ]
     },
     "execution_count": 15,
     "metadata": {},
     "output_type": "execute_result"
    }
   ],
   "source": [
    "mystring[len(mystring)-1]"
   ]
  },
  {
   "cell_type": "code",
   "execution_count": 16,
   "id": "1a5d942b",
   "metadata": {},
   "outputs": [],
   "source": [
    "mystring = 'IND8888888888876'"
   ]
  },
  {
   "cell_type": "code",
   "execution_count": 17,
   "id": "179a356b",
   "metadata": {},
   "outputs": [
    {
     "data": {
      "text/plain": [
       "'IND'"
      ]
     },
     "execution_count": 17,
     "metadata": {},
     "output_type": "execute_result"
    }
   ],
   "source": [
    "mystring[0:3]"
   ]
  },
  {
   "cell_type": "code",
   "execution_count": 18,
   "id": "0927c296",
   "metadata": {},
   "outputs": [],
   "source": [
    "mystring = '8888888888876IND'"
   ]
  },
  {
   "cell_type": "code",
   "execution_count": 19,
   "id": "bad3f03a",
   "metadata": {},
   "outputs": [
    {
     "data": {
      "text/plain": [
       "'IND'"
      ]
     },
     "execution_count": 19,
     "metadata": {},
     "output_type": "execute_result"
    }
   ],
   "source": [
    "mystring[13:16]"
   ]
  },
  {
   "cell_type": "code",
   "execution_count": 20,
   "id": "66293354",
   "metadata": {},
   "outputs": [
    {
     "data": {
      "text/plain": [
       "'IND'"
      ]
     },
     "execution_count": 20,
     "metadata": {},
     "output_type": "execute_result"
    }
   ],
   "source": [
    "mystring[-3:]"
   ]
  },
  {
   "cell_type": "code",
   "execution_count": 21,
   "id": "09b5eac5",
   "metadata": {},
   "outputs": [
    {
     "data": {
      "text/plain": [
       "'8888888888876'"
      ]
     },
     "execution_count": 21,
     "metadata": {},
     "output_type": "execute_result"
    }
   ],
   "source": [
    "mystring[:-3]"
   ]
  },
  {
   "cell_type": "code",
   "execution_count": 22,
   "id": "ebdbdba6",
   "metadata": {},
   "outputs": [
    {
     "data": {
      "text/plain": [
       "'hello world'"
      ]
     },
     "execution_count": 22,
     "metadata": {},
     "output_type": "execute_result"
    }
   ],
   "source": [
    "\"hello\"+\" \"+\"world\""
   ]
  },
  {
   "cell_type": "code",
   "execution_count": 23,
   "id": "681376e3",
   "metadata": {},
   "outputs": [
    {
     "data": {
      "text/plain": [
       "'hello 1234'"
      ]
     },
     "execution_count": 23,
     "metadata": {},
     "output_type": "execute_result"
    }
   ],
   "source": [
    "\"hello\"+\" \"+\"1234\""
   ]
  },
  {
   "cell_type": "code",
   "execution_count": 24,
   "id": "45baa7ae",
   "metadata": {},
   "outputs": [
    {
     "ename": "TypeError",
     "evalue": "can only concatenate str (not \"int\") to str",
     "output_type": "error",
     "traceback": [
      "\u001b[1;31m---------------------------------------------------------------------------\u001b[0m",
      "\u001b[1;31mTypeError\u001b[0m                                 Traceback (most recent call last)",
      "\u001b[1;32m<ipython-input-24-36cf9be86943>\u001b[0m in \u001b[0;36m<module>\u001b[1;34m\u001b[0m\n\u001b[1;32m----> 1\u001b[1;33m \u001b[1;34m\"hello\"\u001b[0m\u001b[1;33m+\u001b[0m\u001b[1;36m1234\u001b[0m\u001b[1;33m\u001b[0m\u001b[1;33m\u001b[0m\u001b[0m\n\u001b[0m",
      "\u001b[1;31mTypeError\u001b[0m: can only concatenate str (not \"int\") to str"
     ]
    }
   ],
   "source": [
    "\"hello\"+1234"
   ]
  },
  {
   "cell_type": "code",
   "execution_count": 25,
   "id": "2e20a244",
   "metadata": {},
   "outputs": [
    {
     "data": {
      "text/plain": [
       "'hello1234'"
      ]
     },
     "execution_count": 25,
     "metadata": {},
     "output_type": "execute_result"
    }
   ],
   "source": [
    "\"hello\"+str(1234)"
   ]
  },
  {
   "cell_type": "code",
   "execution_count": 43,
   "id": "d9e73c30",
   "metadata": {},
   "outputs": [
    {
     "name": "stdout",
     "output_type": "stream",
     "text": [
      "what's your first name:GULSHAN\n",
      "what's your middle name:KUMAR\n",
      "what's your last name:NIRALA\n",
      "your initials are: G K N\n"
     ]
    }
   ],
   "source": [
    "#create a program that asks the user to print his first name ,his middle name and his last name . then print:\n",
    "#\"your initials are _ _ _ \"\n",
    "\n",
    "first_name =input(\"what's your first name:\")\n",
    "middle_name =input(\"what's your middle name:\")\n",
    "last_name =input(\"what's your last name:\")\n",
    "print(\"your initials are:\",first_name[0],middle_name[0],last_name[0])"
   ]
  },
  {
   "cell_type": "code",
   "execution_count": 46,
   "id": "91761394",
   "metadata": {},
   "outputs": [
    {
     "name": "stdout",
     "output_type": "stream",
     "text": [
      "country code: 037\n",
      "country code: 00901\n",
      "country code: 00027\n"
     ]
    }
   ],
   "source": [
    "#let's say your  company has a product with this lot number :\"037-00901-00027\".\n",
    "#037 is the country code. 00901 is the product code .00027 is the batch number.\n",
    "#create a program to print\n",
    "#country code _ _ _ \n",
    "#product code _ _ _   \n",
    "#batch number _ _ _  \n",
    "\n",
    "lot_number=\"037-00901-00027\"\n",
    "print(\"country code:\",lot_number[0:3])\n",
    "print(\"country code:\",lot_number[4:9])\n",
    "print(\"country code:\",lot_number[-5:])"
   ]
  },
  {
   "cell_type": "code",
   "execution_count": 48,
   "id": "d339ad96",
   "metadata": {},
   "outputs": [],
   "source": [
    "num1=5\n",
    "num2=6\n"
   ]
  },
  {
   "cell_type": "code",
   "execution_count": 49,
   "id": "7819912f",
   "metadata": {},
   "outputs": [
    {
     "data": {
      "text/plain": [
       "int"
      ]
     },
     "execution_count": 49,
     "metadata": {},
     "output_type": "execute_result"
    }
   ],
   "source": [
    "type(num1)"
   ]
  },
  {
   "cell_type": "code",
   "execution_count": 50,
   "id": "656336fc",
   "metadata": {},
   "outputs": [
    {
     "data": {
      "text/plain": [
       "0.8333333333333334"
      ]
     },
     "execution_count": 50,
     "metadata": {},
     "output_type": "execute_result"
    }
   ],
   "source": [
    "num1/num2"
   ]
  },
  {
   "cell_type": "code",
   "execution_count": 51,
   "id": "78602f27",
   "metadata": {},
   "outputs": [
    {
     "data": {
      "text/plain": [
       "0"
      ]
     },
     "execution_count": 51,
     "metadata": {},
     "output_type": "execute_result"
    }
   ],
   "source": [
    "num1//num2\n"
   ]
  },
  {
   "cell_type": "code",
   "execution_count": 52,
   "id": "8691ad01",
   "metadata": {},
   "outputs": [
    {
     "data": {
      "text/plain": [
       "11"
      ]
     },
     "execution_count": 52,
     "metadata": {},
     "output_type": "execute_result"
    }
   ],
   "source": [
    "num1+num2\n"
   ]
  },
  {
   "cell_type": "code",
   "execution_count": 53,
   "id": "6d019512",
   "metadata": {},
   "outputs": [
    {
     "data": {
      "text/plain": [
       "-1"
      ]
     },
     "execution_count": 53,
     "metadata": {},
     "output_type": "execute_result"
    }
   ],
   "source": [
    "num1-num2"
   ]
  },
  {
   "cell_type": "code",
   "execution_count": 54,
   "id": "c6cd6850",
   "metadata": {},
   "outputs": [
    {
     "data": {
      "text/plain": [
       "1"
      ]
     },
     "execution_count": 54,
     "metadata": {},
     "output_type": "execute_result"
    }
   ],
   "source": [
    "num2-num1"
   ]
  },
  {
   "cell_type": "code",
   "execution_count": 56,
   "id": "6a341c4a",
   "metadata": {},
   "outputs": [],
   "source": [
    "result=num1/num2"
   ]
  },
  {
   "cell_type": "code",
   "execution_count": 57,
   "id": "477aade4",
   "metadata": {},
   "outputs": [
    {
     "data": {
      "text/plain": [
       "0.8333333333333334"
      ]
     },
     "execution_count": 57,
     "metadata": {},
     "output_type": "execute_result"
    }
   ],
   "source": [
    "result"
   ]
  },
  {
   "cell_type": "code",
   "execution_count": 58,
   "id": "26c18860",
   "metadata": {},
   "outputs": [
    {
     "data": {
      "text/plain": [
       "float"
      ]
     },
     "execution_count": 58,
     "metadata": {},
     "output_type": "execute_result"
    }
   ],
   "source": [
    "type(result)"
   ]
  },
  {
   "cell_type": "code",
   "execution_count": 59,
   "id": "1a939e96",
   "metadata": {},
   "outputs": [
    {
     "data": {
      "text/plain": [
       "30"
      ]
     },
     "execution_count": 59,
     "metadata": {},
     "output_type": "execute_result"
    }
   ],
   "source": [
    "num1*num2"
   ]
  },
  {
   "cell_type": "code",
   "execution_count": 60,
   "id": "e8c324fc",
   "metadata": {},
   "outputs": [
    {
     "data": {
      "text/plain": [
       "5"
      ]
     },
     "execution_count": 60,
     "metadata": {},
     "output_type": "execute_result"
    }
   ],
   "source": [
    "num1%num2"
   ]
  },
  {
   "cell_type": "code",
   "execution_count": 61,
   "id": "856e24b3",
   "metadata": {},
   "outputs": [
    {
     "data": {
      "text/plain": [
       "15625"
      ]
     },
     "execution_count": 61,
     "metadata": {},
     "output_type": "execute_result"
    }
   ],
   "source": [
    "num1**num2"
   ]
  },
  {
   "cell_type": "code",
   "execution_count": 62,
   "id": "1b5e3e78",
   "metadata": {},
   "outputs": [
    {
     "data": {
      "text/plain": [
       "120"
      ]
     },
     "execution_count": 62,
     "metadata": {},
     "output_type": "execute_result"
    }
   ],
   "source": [
    "import math\n",
    "math.factorial(5)"
   ]
  },
  {
   "cell_type": "code",
   "execution_count": 63,
   "id": "98ec6ffa",
   "metadata": {},
   "outputs": [
    {
     "data": {
      "text/plain": [
       "3"
      ]
     },
     "execution_count": 63,
     "metadata": {},
     "output_type": "execute_result"
    }
   ],
   "source": [
    "math.ceil(2.2)"
   ]
  },
  {
   "cell_type": "code",
   "execution_count": 65,
   "id": "ebc3aeca",
   "metadata": {},
   "outputs": [
    {
     "data": {
      "text/plain": [
       "2"
      ]
     },
     "execution_count": 65,
     "metadata": {},
     "output_type": "execute_result"
    }
   ],
   "source": [
    "math.floor(2.8)"
   ]
  },
  {
   "cell_type": "code",
   "execution_count": 67,
   "id": "49fb696a",
   "metadata": {},
   "outputs": [
    {
     "data": {
      "text/plain": [
       "2.995732273553991"
      ]
     },
     "execution_count": 67,
     "metadata": {},
     "output_type": "execute_result"
    }
   ],
   "source": [
    "math.log(20)"
   ]
  },
  {
   "cell_type": "code",
   "execution_count": null,
   "id": "6ffdce80",
   "metadata": {},
   "outputs": [],
   "source": []
  }
 ],
 "metadata": {
  "kernelspec": {
   "display_name": "Python 3",
   "language": "python",
   "name": "python3"
  },
  "language_info": {
   "codemirror_mode": {
    "name": "ipython",
    "version": 3
   },
   "file_extension": ".py",
   "mimetype": "text/x-python",
   "name": "python",
   "nbconvert_exporter": "python",
   "pygments_lexer": "ipython3",
   "version": "3.9.1"
  }
 },
 "nbformat": 4,
 "nbformat_minor": 5
}
