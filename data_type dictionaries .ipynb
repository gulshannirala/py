{
 "cells": [
  {
   "cell_type": "code",
   "execution_count": 4,
   "id": "27d5bad8",
   "metadata": {},
   "outputs": [],
   "source": [
    "person={\"first_name\": \"Gulshan\",\"last_name\": \"Nirala\",\"birth_year\": 2002,\"country_of_birth\": \"India\"}"
   ]
  },
  {
   "cell_type": "code",
   "execution_count": 5,
   "id": "aba058a7",
   "metadata": {},
   "outputs": [
    {
     "data": {
      "text/plain": [
       "dict"
      ]
     },
     "execution_count": 5,
     "metadata": {},
     "output_type": "execute_result"
    }
   ],
   "source": [
    "type(person)"
   ]
  },
  {
   "cell_type": "code",
   "execution_count": 7,
   "id": "5c7d0bcd",
   "metadata": {},
   "outputs": [
    {
     "data": {
      "text/plain": [
       "'Gulshan'"
      ]
     },
     "execution_count": 7,
     "metadata": {},
     "output_type": "execute_result"
    }
   ],
   "source": [
    "person[\"first_name\"]"
   ]
  },
  {
   "cell_type": "code",
   "execution_count": 8,
   "id": "f5559c67",
   "metadata": {},
   "outputs": [
    {
     "data": {
      "text/plain": [
       "2002"
      ]
     },
     "execution_count": 8,
     "metadata": {},
     "output_type": "execute_result"
    }
   ],
   "source": [
    "person[\"birth_year\"]"
   ]
  },
  {
   "cell_type": "code",
   "execution_count": 10,
   "id": "47ac0d92",
   "metadata": {},
   "outputs": [],
   "source": [
    "person[\"maritial_status\"]=\"married\""
   ]
  },
  {
   "cell_type": "code",
   "execution_count": 11,
   "id": "0053a085",
   "metadata": {},
   "outputs": [
    {
     "data": {
      "text/plain": [
       "{'first_name': 'Gulshan',\n",
       " 'last_name': 'Nirala',\n",
       " 'birth_year': 2002,\n",
       " 'country_of_birth': 'India',\n",
       " 'maritial_status': 'married'}"
      ]
     },
     "execution_count": 11,
     "metadata": {},
     "output_type": "execute_result"
    }
   ],
   "source": [
    "person"
   ]
  },
  {
   "cell_type": "code",
   "execution_count": 12,
   "id": "bbf582cd",
   "metadata": {},
   "outputs": [],
   "source": [
    "person[\"children\"]=3"
   ]
  },
  {
   "cell_type": "code",
   "execution_count": 13,
   "id": "6c22a307",
   "metadata": {},
   "outputs": [
    {
     "data": {
      "text/plain": [
       "{'first_name': 'Gulshan',\n",
       " 'last_name': 'Nirala',\n",
       " 'birth_year': 2002,\n",
       " 'country_of_birth': 'India',\n",
       " 'maritial_status': 'married',\n",
       " 'children': 3}"
      ]
     },
     "execution_count": 13,
     "metadata": {},
     "output_type": "execute_result"
    }
   ],
   "source": [
    "person"
   ]
  },
  {
   "cell_type": "code",
   "execution_count": 14,
   "id": "24feea35",
   "metadata": {},
   "outputs": [],
   "source": [
    "person[\"children\"]=[\"abc\",\"def\"]"
   ]
  },
  {
   "cell_type": "code",
   "execution_count": 15,
   "id": "b094631a",
   "metadata": {},
   "outputs": [
    {
     "data": {
      "text/plain": [
       "{'first_name': 'Gulshan',\n",
       " 'last_name': 'Nirala',\n",
       " 'birth_year': 2002,\n",
       " 'country_of_birth': 'India',\n",
       " 'maritial_status': 'married',\n",
       " 'children': ['abc', 'def']}"
      ]
     },
     "execution_count": 15,
     "metadata": {},
     "output_type": "execute_result"
    }
   ],
   "source": [
    "person"
   ]
  },
  {
   "cell_type": "code",
   "execution_count": 16,
   "id": "43e9b22f",
   "metadata": {},
   "outputs": [],
   "source": [
    "person[\"children\"]=[\"abc\",\"def\",\"ghi\"]"
   ]
  },
  {
   "cell_type": "code",
   "execution_count": 17,
   "id": "0dd52a09",
   "metadata": {},
   "outputs": [
    {
     "data": {
      "text/plain": [
       "{'first_name': 'Gulshan',\n",
       " 'last_name': 'Nirala',\n",
       " 'birth_year': 2002,\n",
       " 'country_of_birth': 'India',\n",
       " 'maritial_status': 'married',\n",
       " 'children': ['abc', 'def', 'ghi']}"
      ]
     },
     "execution_count": 17,
     "metadata": {},
     "output_type": "execute_result"
    }
   ],
   "source": [
    "person"
   ]
  },
  {
   "cell_type": "code",
   "execution_count": 18,
   "id": "20d360b1",
   "metadata": {},
   "outputs": [
    {
     "ename": "KeyError",
     "evalue": "'age'",
     "output_type": "error",
     "traceback": [
      "\u001b[1;31m---------------------------------------------------------------------------\u001b[0m",
      "\u001b[1;31mKeyError\u001b[0m                                  Traceback (most recent call last)",
      "\u001b[1;32m<ipython-input-18-e6a5f1c5b50f>\u001b[0m in \u001b[0;36m<module>\u001b[1;34m\u001b[0m\n\u001b[1;32m----> 1\u001b[1;33m \u001b[0mperson\u001b[0m\u001b[1;33m[\u001b[0m\u001b[1;34m\"age\"\u001b[0m\u001b[1;33m]\u001b[0m\u001b[1;33m\u001b[0m\u001b[1;33m\u001b[0m\u001b[0m\n\u001b[0m",
      "\u001b[1;31mKeyError\u001b[0m: 'age'"
     ]
    }
   ],
   "source": [
    "person[\"age\"]"
   ]
  },
  {
   "cell_type": "code",
   "execution_count": 24,
   "id": "12451c2a",
   "metadata": {},
   "outputs": [
    {
     "data": {
      "text/plain": [
       "'invalid_property'"
      ]
     },
     "execution_count": 24,
     "metadata": {},
     "output_type": "execute_result"
    }
   ],
   "source": [
    "person.get(\"age\",\"invalid_property\")"
   ]
  },
  {
   "cell_type": "code",
   "execution_count": 25,
   "id": "3952f3b4",
   "metadata": {},
   "outputs": [
    {
     "data": {
      "text/plain": [
       "['abc', 'def', 'ghi']"
      ]
     },
     "execution_count": 25,
     "metadata": {},
     "output_type": "execute_result"
    }
   ],
   "source": [
    "person.get(\"children\",\"invalid_property\")"
   ]
  },
  {
   "cell_type": "code",
   "execution_count": 26,
   "id": "0040b296",
   "metadata": {},
   "outputs": [],
   "source": [
    "key=\"first_name\""
   ]
  },
  {
   "cell_type": "code",
   "execution_count": 29,
   "id": "b7ba4c50",
   "metadata": {},
   "outputs": [
    {
     "data": {
      "text/plain": [
       "'Gulshan'"
      ]
     },
     "execution_count": 29,
     "metadata": {},
     "output_type": "execute_result"
    }
   ],
   "source": [
    "person[key]"
   ]
  },
  {
   "cell_type": "code",
   "execution_count": 31,
   "id": "17a7725f",
   "metadata": {},
   "outputs": [
    {
     "data": {
      "text/plain": [
       "'Gulshan'"
      ]
     },
     "execution_count": 31,
     "metadata": {},
     "output_type": "execute_result"
    }
   ],
   "source": [
    "person[\"first_name\"]"
   ]
  },
  {
   "cell_type": "code",
   "execution_count": 34,
   "id": "d25ff0b8",
   "metadata": {},
   "outputs": [],
   "source": [
    "person.clear()"
   ]
  },
  {
   "cell_type": "code",
   "execution_count": 35,
   "id": "53555e86",
   "metadata": {},
   "outputs": [
    {
     "data": {
      "text/plain": [
       "{}"
      ]
     },
     "execution_count": 35,
     "metadata": {},
     "output_type": "execute_result"
    }
   ],
   "source": [
    "person"
   ]
  },
  {
   "cell_type": "raw",
   "id": "73d1823d",
   "metadata": {},
   "source": [
    "Create a program with a predefined dictionary for a person.Include the following information:the person name, gender, age, address and phone.\n",
    "ask the user what information he wants to know about the person and print the value associated to the key name and display an alternative message if the key not found."
   ]
  },
  {
   "cell_type": "code",
   "execution_count": 37,
   "id": "5f9ec9b4",
   "metadata": {},
   "outputs": [],
   "source": [
    "person={\"first_name\": \"John\",\"last_name\": \"dey\",\"gender\":\"Male\",\"age\":18,\"address\":\"4208_Meadow\",\"phone_number\":87997867}"
   ]
  },
  {
   "cell_type": "code",
   "execution_count": 38,
   "id": "7d3c5f0a",
   "metadata": {},
   "outputs": [
    {
     "data": {
      "text/plain": [
       "{'first_name': 'John',\n",
       " 'last_name': 'dey',\n",
       " 'gender': 'Male',\n",
       " 'age': 18,\n",
       " 'address': '4208_Meadow',\n",
       " 'phone_number': 87997867}"
      ]
     },
     "execution_count": 38,
     "metadata": {},
     "output_type": "execute_result"
    }
   ],
   "source": [
    "person"
   ]
  },
  {
   "cell_type": "code",
   "execution_count": 42,
   "id": "4cd6b64e",
   "metadata": {},
   "outputs": [],
   "source": [
    "key=\"first_name\""
   ]
  },
  {
   "cell_type": "code",
   "execution_count": 43,
   "id": "6d939d5b",
   "metadata": {},
   "outputs": [
    {
     "data": {
      "text/plain": [
       "'John'"
      ]
     },
     "execution_count": 43,
     "metadata": {},
     "output_type": "execute_result"
    }
   ],
   "source": [
    "person[key]"
   ]
  },
  {
   "cell_type": "code",
   "execution_count": 46,
   "id": "074c5078",
   "metadata": {},
   "outputs": [],
   "source": [
    "key=\"gender\""
   ]
  },
  {
   "cell_type": "code",
   "execution_count": 47,
   "id": "86308906",
   "metadata": {},
   "outputs": [
    {
     "data": {
      "text/plain": [
       "'Male'"
      ]
     },
     "execution_count": 47,
     "metadata": {},
     "output_type": "execute_result"
    }
   ],
   "source": [
    "person[key]"
   ]
  },
  {
   "cell_type": "code",
   "execution_count": 48,
   "id": "f9b7b3ab",
   "metadata": {},
   "outputs": [
    {
     "data": {
      "text/plain": [
       "18"
      ]
     },
     "execution_count": 48,
     "metadata": {},
     "output_type": "execute_result"
    }
   ],
   "source": [
    "person.get(\"age\",\"invalid_property\")"
   ]
  },
  {
   "cell_type": "code",
   "execution_count": 49,
   "id": "62b93635",
   "metadata": {},
   "outputs": [
    {
     "data": {
      "text/plain": [
       "'invalid_property'"
      ]
     },
     "execution_count": 49,
     "metadata": {},
     "output_type": "execute_result"
    }
   ],
   "source": [
    "person.get(\"children\",\"invalid_property\")"
   ]
  },
  {
   "cell_type": "code",
   "execution_count": 52,
   "id": "9460c204",
   "metadata": {},
   "outputs": [
    {
     "name": "stdout",
     "output_type": "stream",
     "text": [
      "what information do you want to know about the person?age\n",
      "18\n"
     ]
    }
   ],
   "source": [
    "key=input(\"what information do you want to know about the person?\")\n",
    "result=person.get(key,\"this information is not available\")\n",
    "print(result)"
   ]
  },
  {
   "cell_type": "code",
   "execution_count": 53,
   "id": "26ec78f3",
   "metadata": {},
   "outputs": [
    {
     "name": "stdout",
     "output_type": "stream",
     "text": [
      "what information do you want to know about the person?children\n",
      "this information is not available\n"
     ]
    }
   ],
   "source": [
    "key=input(\"what information do you want to know about the person?\")\n",
    "result=person.get(key,\"this information is not available\")\n",
    "print(result)"
   ]
  },
  {
   "cell_type": "code",
   "execution_count": 54,
   "id": "17db40c8",
   "metadata": {},
   "outputs": [
    {
     "name": "stdout",
     "output_type": "stream",
     "text": [
      "what information do you want to know about the person?phone_number\n",
      "87997867\n"
     ]
    }
   ],
   "source": [
    "key=input(\"what information do you want to know about the person?\")\n",
    "result=person.get(key,\"this information is not available\")\n",
    "print(result)"
   ]
  },
  {
   "cell_type": "code",
   "execution_count": 55,
   "id": "61014619",
   "metadata": {},
   "outputs": [
    {
     "name": "stdout",
     "output_type": "stream",
     "text": [
      "what information do you want to know about the person?baby\n",
      "this information is not available\n"
     ]
    }
   ],
   "source": [
    "key=input(\"what information do you want to know about the person?\")\n",
    "result=person.get(key,\"this information is not available\")\n",
    "print(result)"
   ]
  },
  {
   "cell_type": "code",
   "execution_count": 56,
   "id": "1edd70bf",
   "metadata": {},
   "outputs": [
    {
     "name": "stdout",
     "output_type": "stream",
     "text": [
      "what information do you want to know about the person?NAME\n",
      "this information is not available\n"
     ]
    }
   ],
   "source": [
    "key=input(\"what information do you want to know about the person?\")\n",
    "result=person.get(key,\"this information is not available\")\n",
    "print(result)\n"
   ]
  },
  {
   "cell_type": "code",
   "execution_count": 57,
   "id": "9238bcb6",
   "metadata": {},
   "outputs": [
    {
     "name": "stdout",
     "output_type": "stream",
     "text": [
      "what information do you want to know about the person?NAME\n",
      "this information is not available\n"
     ]
    }
   ],
   "source": [
    "key=input(\"what information do you want to know about the person?\")\n",
    "result=person.get(key,\"this information is not available\").lower()\n",
    "print(result)"
   ]
  },
  {
   "cell_type": "code",
   "execution_count": 59,
   "id": "0d25d73f",
   "metadata": {},
   "outputs": [
    {
     "name": "stdout",
     "output_type": "stream",
     "text": [
      "what information do you want to know about the person?NAME\n",
      "this information is not available\n"
     ]
    }
   ],
   "source": [
    "person={\"first_name\": \"Gulshan\",\"last_name\": \"Nirala\",\"birth_year\": 2002,\"country_of_birth\": \"India\"}\n",
    "key=input(\"what information do you want to know about the person?\").lower()\n",
    "result=person.get(key,\"this information is not available\")\n",
    "print(result)"
   ]
  },
  {
   "cell_type": "code",
   "execution_count": null,
   "id": "94a6b68f",
   "metadata": {},
   "outputs": [],
   "source": []
  }
 ],
 "metadata": {
  "kernelspec": {
   "display_name": "Python 3",
   "language": "python",
   "name": "python3"
  },
  "language_info": {
   "codemirror_mode": {
    "name": "ipython",
    "version": 3
   },
   "file_extension": ".py",
   "mimetype": "text/x-python",
   "name": "python",
   "nbconvert_exporter": "python",
   "pygments_lexer": "ipython3",
   "version": "3.9.1"
  }
 },
 "nbformat": 4,
 "nbformat_minor": 5
}
